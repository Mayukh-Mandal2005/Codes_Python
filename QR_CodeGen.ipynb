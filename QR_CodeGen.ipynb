{
 "cells": [
  {
   "cell_type": "code",
   "execution_count": 1,
   "id": "99b61500-4cda-4135-9c73-5d5ba3d87f8a",
   "metadata": {},
   "outputs": [],
   "source": [
    "import qrcode as qr\n",
    "img = qr.make(\"https://app.onlinedegree.iitm.ac.in/auth/login\")\n",
    "img.save(\"IIT-Madras_login.png\")\n",
    "img.show(\"IIT-Madras_login.png\")"
   ]
  },
  {
   "cell_type": "code",
   "execution_count": null,
   "id": "b3ce41a5-f2c5-4d19-83d2-d51cbfa5e244",
   "metadata": {},
   "outputs": [],
   "source": []
  }
 ],
 "metadata": {
  "kernelspec": {
   "display_name": "Python 3 (ipykernel)",
   "language": "python",
   "name": "python3"
  },
  "language_info": {
   "codemirror_mode": {
    "name": "ipython",
    "version": 3
   },
   "file_extension": ".py",
   "mimetype": "text/x-python",
   "name": "python",
   "nbconvert_exporter": "python",
   "pygments_lexer": "ipython3",
   "version": "3.11.4"
  }
 },
 "nbformat": 4,
 "nbformat_minor": 5
}
